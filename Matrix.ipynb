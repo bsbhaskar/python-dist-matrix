{
 "cells": [
  {
   "cell_type": "markdown",
   "metadata": {},
   "source": [
    "## Discrete\n",
    "Distribution | MEAN | VAR | PMF | CDF \n",
    "--- | --- | :---: | :---: | :---: | :---: \n",
    "[Bernoulli](https://en.wikipedia.org/wiki/Bernoulli_distribution) <br> ex: distribution of a single coin flip | $p$ | $p(1-p)$ | $1-p$ for $k=0$ <br> $p$ for $k=1$ | $0$ for $k=0$ <br> $1-p$ for $0\\leq k < 1$ <br> $1$ for $k \\geq 1$ \n",
    "`bern_dist = scs.bernoulli(p=0.5)` <p></p> `bern_sample = scs.bernoulli.rvs(p=0.5, loc=0, size=100)` <br> `=> # array of 10 coin flips (0's and 1s)` | `bern_dist.mean()` | `bern_dist.var()` | `bern_dist.pmf(k=0)` <br> `bern_dist.pmf(k=1)` | `bern_dist.cdf(x=0.75)`\n",
    "[Binomial](https://en.wikipedia.org/wiki/Binomial_distribution) <br> distribution of multiple binary events | $np$ | $np(1-p)$ | $\\binom{n}{k}p^{k}(1-p)^{n-k}$ | |\n",
    "`binom_dist = scs.binom(n=50, p=0.5)` <p></p> `binom_dist_sample = scs.binom.rvs(n=50, p=0.5, loc=0, size=20)` | `binom_dist.mean()` | `binom_dist.var()` | `binom_dist.pmf(k=25)` | `binom_dist.cdf(x=25)`\n",
    "Poisson | $\\lambda$  | $\\lambda$ | | | | |\n",
    "Geometric | $1/p$ | $\\frac{1-p}{p^{2}}$ | | | | |"
   ]
  },
  {
   "cell_type": "markdown",
   "metadata": {},
   "source": [
    "## Continuous\n",
    "Distribution | MEAN | VAR | PDF | CDF \n",
    "--- | --- | :---: | :---: | :---: | :---: \n",
    "[Normal](https://en.wikipedia.org/wiki/Normal_distribution) <br> ex: heights of women or heights of men are normally distributed <br>`loc` is $\\mu$, `scale` is $\\sigma$ | $\\mu$ | $\\sigma^{2}$ | $\\frac{1}{\\sqrt{2\\pi\\sigma^{2}}}e^{-\\frac{(x-\\mu)^{2}}{2\\sigma^{2}}}$ | |\n",
    "`norm_dist = scs.norm(loc=0, scale=2)` <p></p> `norm_sample = scs.norm.rvs(loc=0, scale=1, size=20)` | `norm_dist.mean()` | `norm_dist.var()` | `norm_dist.pdf(x=0)` | `norm_dist.cdf(x=0)` \n",
    "[Uniform](https://en.wikipedia.org/wiki/Uniform_distribution_(continuous)) <br> ex: distribution of results of die rolls <br> `loc` is $a$, `scale` is $b-a$ | $\\frac{a+b}{2}$ | $\\frac{(a+b)^{2}}{12}$ | $\\frac{1}{b-a}$ for $x \\in \\mid a, b \\mid$ <br> $0$ otherwise | $0$ for $x < a$ <br> $\\frac{x-a}{b-a}$ for $x \\in \\mid a, b)$ <br> $1$ for $x \\geq b$\n",
    "`unif_dist = scs.uniform(loc=0, scale=10)` <p></p> `unif_sample = scs.uniform.rvs(loc=0, scale=10, size=20)` | `unif_dist.mean()` | `unif_dist.var()` | `unif_dist.pdf(x=3)` | `unif_dist.cdf(x=3)`\n",
    "Exponential | $\\lambda^{-1}$ | $\\lambda^{-2}$ | | | | |\n",
    "Gamma | $k\\theta$ | $k\\theta^{2}$ | | | | |"
   ]
  },
  {
   "cell_type": "code",
   "execution_count": null,
   "metadata": {},
   "outputs": [],
   "source": []
  }
 ],
 "metadata": {
  "kernelspec": {
   "display_name": "Python 3",
   "language": "python",
   "name": "python3"
  },
  "language_info": {
   "codemirror_mode": {
    "name": "ipython",
    "version": 3
   },
   "file_extension": ".py",
   "mimetype": "text/x-python",
   "name": "python",
   "nbconvert_exporter": "python",
   "pygments_lexer": "ipython3",
   "version": "3.6.3"
  }
 },
 "nbformat": 4,
 "nbformat_minor": 2
}
